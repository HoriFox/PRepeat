{
 "cells": [
  {
   "cell_type": "markdown",
   "metadata": {},
   "source": [
    "### Слегка вспомним Python\n",
    "#### Что хорошо, а что плохо?\n",
    "\n",
    "***\n",
    "\n",
    "#### Цикл по списку"
   ]
  },
  {
   "cell_type": "markdown",
   "metadata": {},
   "source": [
    "**Плохо:**\n",
    "\n",
    "```python\n",
    "colors = ['red', 'green', 'blue', 'yellow']\n",
    "for i in range(len(colors)):\n",
    "    print(colors[i])\n",
    "```"
   ]
  },
  {
   "cell_type": "markdown",
   "metadata": {},
   "source": [
    "**Хорошо:**\n",
    "\n",
    "```python\n",
    "colors = ['red', 'green', 'blue', 'yellow']\n",
    "for color in colors:\n",
    "    print(color)\n",
    "```"
   ]
  },
  {
   "cell_type": "markdown",
   "metadata": {},
   "source": [
    "* Пройти по списку обратно? \n",
    "Используй `reversed()`:\n",
    "\n",
    "```python\n",
    "    for color in reversed(colors)\n",
    "```"
   ]
  },
  {
   "cell_type": "markdown",
   "metadata": {},
   "source": [
    "***\n",
    "\n",
    "#### Цикл по двум спискам"
   ]
  },
  {
   "cell_type": "markdown",
   "metadata": {},
   "source": [
    "**Плохо:**\n",
    "\n",
    "```python\n",
    "names = ['raymond', 'rachel', 'matthew']\n",
    "colors = ['red', 'green', 'blue', 'yellow']\n",
    "n = min(len(names), len(colors))\n",
    "for i in range(n):\n",
    "    print(names[i], '-->', colors[i])\n",
    "```"
   ]
  },
  {
   "cell_type": "markdown",
   "metadata": {},
   "source": [
    "**Хорошо:**\n",
    "\n",
    "```python\n",
    "names = ['raymond', 'rachel', 'matthew']\n",
    "colors = ['red', 'green', 'blue', 'yellow']\n",
    "for name, color in zip(names, colors):\n",
    "    print(name, '-->', color)\n",
    "```"
   ]
  },
  {
   "cell_type": "markdown",
   "metadata": {},
   "source": [
    "***\n",
    "\n",
    "#### Цикл по ключам словаря"
   ]
  },
  {
   "cell_type": "markdown",
   "metadata": {},
   "source": [
    "Обычный способ возвращает ключи. При таком цикле происходит итерация словаря, поэтому в процессе его изменять нельзя. \n",
    "\n",
    "```python\n",
    "for k in d:\n",
    "    print(k)\n",
    "```"
   ]
  },
  {
   "cell_type": "markdown",
   "metadata": {},
   "source": [
    "Для изменения словаря в цикле используйте цикл по ключам (Пример: удаление всех ключей начинающихся с R):\n",
    "\n",
    "```python\n",
    "for k in d.keys():\n",
    "    if k.startswith('R'):\n",
    "        del d[k]\n",
    "```\n",
    "\n",
    "В этом случае d.keys() делает копию ключей словаря, что позволяет нам свободно работать с оригинальной структурой. "
   ]
  },
  {
   "cell_type": "markdown",
   "metadata": {},
   "source": [
    "***\n",
    "\n",
    "#### Цикл по ключам и значением словаря\n",
    "\n",
    "Лучше использовать итератор."
   ]
  },
  {
   "cell_type": "markdown",
   "metadata": {},
   "source": [
    "**Плохо:**\n",
    "\n",
    "```python\n",
    "for k in d:\n",
    "    print(k, '-->', d[k])\n",
    "```    "
   ]
  },
  {
   "cell_type": "markdown",
   "metadata": {},
   "source": [
    "**Хорошо:**\n",
    "\n",
    "```python\n",
    "for k, v in d.iteritems():\n",
    "    print(k, '-->', v)\n",
    "```"
   ]
  },
  {
   "cell_type": "markdown",
   "metadata": {},
   "source": [
    "***\n",
    "\n",
    "#### Соединение двух списков в один словарь"
   ]
  },
  {
   "cell_type": "markdown",
   "metadata": {},
   "source": [
    "```python\n",
    "names = ['raymond', 'rachel', 'matthew']\n",
    "colors = ['red', 'green', 'blue']\n",
    "\n",
    "d = dict(zip(names, colors))\n",
    "```   \n",
    "\n",
    "**d будет иметь следующее значение:** \n",
    "\n",
    "`{'matthew': 'blue', 'rachel': 'green', 'raymond': 'red'}`"
   ]
  }
 ],
 "metadata": {
  "kernelspec": {
   "display_name": "Python 3",
   "language": "python",
   "name": "python3"
  },
  "language_info": {
   "codemirror_mode": {
    "name": "ipython",
    "version": 3
   },
   "file_extension": ".py",
   "mimetype": "text/x-python",
   "name": "python",
   "nbconvert_exporter": "python",
   "pygments_lexer": "ipython3",
   "version": "3.6.4"
  }
 },
 "nbformat": 4,
 "nbformat_minor": 2
}
