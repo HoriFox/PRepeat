{
 "cells": [
  {
   "cell_type": "markdown",
   "metadata": {},
   "source": [
    "### Глобальные переменные."
   ]
  },
  {
   "cell_type": "code",
   "execution_count": 2,
   "metadata": {},
   "outputs": [],
   "source": [
    "symbols = []\n",
    "dictionary = {\"01\": 'А', \"02\": 'Б', \"03\": 'В', \"04\": 'Г', \"05\": 'Д', \"06\": 'Е',\n",
    "              \"07\": 'Ё', \"08\": 'Ж', \"09\": 'З', \"10\": 'И', \"11\": 'Й', \"12\": 'К',\n",
    "              \"13\": 'Л', \"14\": 'М', \"15\": 'Н', \"16\": 'О', \"17\": 'П', \"18\": 'Р',\n",
    "              \"19\": 'С', \"20\": 'Т', \"21\": 'У', \"22\": 'Ф', \"23\": 'Х', \"24\": 'Ц',\n",
    "              \"25\": 'Ч', \"26\": 'Ш', \"27\": 'Щ', \"28\": 'Ъ', \"29\": 'Ы', \"30\": 'Ь',\n",
    "              \"31\": 'Э', \"32\": 'Ю', \"33\": 'Я', \"34\": '1', \"35\": '2', \"36\": '3',\n",
    "              \"37\": '4', \"38\": '5', \"39\": '6', \"40\": '7', \"41\": '8', \"42\": '9',\n",
    "              \"43\": '0', \"44\": '.', \"45\": ',', \"46\": ' ', \"47\": '!', \"48\": '?'}\n",
    "# Символ деления.\n",
    "division = 99 \n",
    "# Количество символов в словаре.\n",
    "sizeDir = 48 \n",
    "sentences = []"
   ]
  },
  {
   "cell_type": "markdown",
   "metadata": {},
   "source": [
    "### Деление шифра по два символа."
   ]
  },
  {
   "cell_type": "code",
   "execution_count": 3,
   "metadata": {},
   "outputs": [],
   "source": [
    "def Division(allSymbols):\n",
    "    k = 0\n",
    "    temporary = []\n",
    "    for symb in allSymbols:\n",
    "        if (k == 0):\n",
    "            temporary.append(symb)\n",
    "        else:\n",
    "            temporary.append(symb)\n",
    "            symbols.append(int(str(temporary[0])+str(temporary[1])))\n",
    "            temporary.clear()\n",
    "            k = -1\n",
    "        k += 1"
   ]
  },
  {
   "cell_type": "markdown",
   "metadata": {},
   "source": [
    "### Установка смещения на символы."
   ]
  },
  {
   "cell_type": "code",
   "execution_count": 4,
   "metadata": {},
   "outputs": [],
   "source": [
    "def Shift(shift):\n",
    "    for i, symbol in enumerate(symbols):\n",
    "        if (symbol != division):\n",
    "            if ((symbol + shift) > sizeDir):\n",
    "                symbols[i] = (symbol + shift) - sizeDir\n",
    "            else: \n",
    "                symbols[i] = symbol + shift"
   ]
  },
  {
   "cell_type": "markdown",
   "metadata": {},
   "source": [
    "### Декодирование символов по словарю."
   ]
  },
  {
   "cell_type": "code",
   "execution_count": 5,
   "metadata": {},
   "outputs": [],
   "source": [
    "def Decoding():\n",
    "    for symbol in symbols:\n",
    "        if (symbol == 99):\n",
    "            sentences.append(\"\\n\")\n",
    "        else: \n",
    "            if (symbol <= 9):\n",
    "                sentences.append(dictionary[str(0) + str(symbol)])\n",
    "            else:\n",
    "                sentences.append(dictionary[str(symbol)])  "
   ]
  },
  {
   "cell_type": "markdown",
   "metadata": {},
   "source": [
    "### Печать декодированного предложения."
   ]
  },
  {
   "cell_type": "code",
   "execution_count": 6,
   "metadata": {},
   "outputs": [],
   "source": [
    "def PrintSentences():\n",
    "    print(\"Дешифрованное сообщение: \", end='')\n",
    "    for i in range(len(sentences)):\n",
    "        print(sentences[i], end='')"
   ]
  },
  {
   "cell_type": "markdown",
   "metadata": {},
   "source": [
    "### Очистка переменных."
   ]
  },
  {
   "cell_type": "code",
   "execution_count": 7,
   "metadata": {},
   "outputs": [],
   "source": [
    "def Clearing():\n",
    "    symbols.clear()\n",
    "    sentences.clear()"
   ]
  },
  {
   "cell_type": "markdown",
   "metadata": {},
   "source": [
    "### Запрос данных, запуск методов и вывод результата.\n",
    "По завершению ввода нажимать ENTER\n",
    "\n",
    "***\n",
    "\n",
    "**Пример ввода**\n",
    "\n",
    "**Шифровка:** `044748274020040643120943273899`\n",
    "\n",
    "**Сдвиг:** `6`\n",
    "\n",
    "***"
   ]
  },
  {
   "cell_type": "code",
   "execution_count": 8,
   "metadata": {},
   "outputs": [
    {
     "name": "stdout",
     "output_type": "stream",
     "text": [
      "Шифровка: 044748274020040643120943273899\n",
      "Сдвиг: 6\n",
      "Дешифрованное сообщение: ИДЕЯ ШИКАРНАЯ.\n"
     ]
    }
   ],
   "source": [
    "Division(list(input(\"Шифровка: \")))\n",
    "Shift(int(input(\"Сдвиг: \")))\n",
    "Decoding()\n",
    "PrintSentences()\n",
    "Clearing()"
   ]
  },
  {
   "cell_type": "code",
   "execution_count": null,
   "metadata": {},
   "outputs": [],
   "source": []
  }
 ],
 "metadata": {
  "kernelspec": {
   "display_name": "Python 3",
   "language": "python",
   "name": "python3"
  },
  "language_info": {
   "codemirror_mode": {
    "name": "ipython",
    "version": 3
   },
   "file_extension": ".py",
   "mimetype": "text/x-python",
   "name": "python",
   "nbconvert_exporter": "python",
   "pygments_lexer": "ipython3",
   "version": "3.6.4"
  }
 },
 "nbformat": 4,
 "nbformat_minor": 2
}
