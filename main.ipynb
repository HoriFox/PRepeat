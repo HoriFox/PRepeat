{
 "cells": [
  {
   "cell_type": "markdown",
   "metadata": {},
   "source": [
    "### Глобальные переменные."
   ]
  },
  {
   "cell_type": "code",
   "execution_count": 3,
   "metadata": {},
   "outputs": [],
   "source": [
    "# Словарь.\n",
    "dictionary1 = ['01', '02', '03', '04', '05', '06', '07', '08', '09', '10', '11', '12', '13', '14', '15', \n",
    "               '16', '17', '18', '19', '20', '21', '22', '23', '24', '25', '26', '27', '28', '29', '30', \n",
    "               '31', '32', '33', '34', '35', '36', '37', '38', '39', '40', '41', '42', '43', '44', '45', \n",
    "               '46', '47', '48']\n",
    "dictionary2 = ['А', 'Б', 'В', 'Г', 'Д', 'Е', 'Ё', 'Ж', 'З', 'И', 'Й', 'К', 'Л', 'М', 'Н', 'О', \n",
    "               'П', 'Р', 'С', 'Т', 'У', 'Ф', 'Х', 'Ц', 'Ч', 'Ш', 'Щ', 'Ъ', 'Ы', 'Ь', 'Э', 'Ю', \n",
    "               'Я', '1', '2', '3', '4', '5', '6', '7', '8', '9', '0', '.', ',', ' ', '!', '?']\n",
    "# Словарь для шифрования.\n",
    "dictionaryE = dict(zip(dictionary2, dictionary1))\n",
    "# Словарь для дешифрования.\n",
    "dictionaryD = dict(zip(dictionary1, dictionary2))\n",
    "\n",
    "# Символ деления.\n",
    "division = 99 \n",
    "# Количество символов в словаре.\n",
    "sizeDir = len(dictionary2)\n",
    "# Символы.\n",
    "symbols = []\n",
    "# Предложения.\n",
    "sentences = []"
   ]
  },
  {
   "cell_type": "markdown",
   "metadata": {},
   "source": [
    "### Деление шифра по два символа."
   ]
  },
  {
   "cell_type": "code",
   "execution_count": 4,
   "metadata": {},
   "outputs": [],
   "source": [
    "def Division(allSymbols):   \n",
    "    n = 2\n",
    "    for i in range(0, len(allSymbols), n):\n",
    "        symbols.append(int(allSymbols[i:i+n]))"
   ]
  },
  {
   "cell_type": "markdown",
   "metadata": {},
   "source": [
    "### Установка смещения на символы."
   ]
  },
  {
   "cell_type": "code",
   "execution_count": 5,
   "metadata": {},
   "outputs": [],
   "source": [
    "def Shift(type, shift):\n",
    "    if (type == 0):\n",
    "        for i, symbol in enumerate(symbols):\n",
    "            if (symbol != division):\n",
    "                if ((symbol + shift) > sizeDir):\n",
    "                    symbols[i] = (symbol + shift) - sizeDir\n",
    "                else: \n",
    "                    symbols[i] = symbol + shift\n",
    "    if (type == 1):\n",
    "        for i, symbol in enumerate(symbols):\n",
    "            if (symbol != 99):\n",
    "                if ((symbol - shift) < 0):\n",
    "                    intermediate = sizeDir - (shift - symbol)\n",
    "                else: \n",
    "                    intermediate = symbol - shift\n",
    "                if (intermediate <= 9):\n",
    "                    intermediate = str(0) + str(intermediate)\n",
    "                symbols[i] = intermediate"
   ]
  },
  {
   "cell_type": "markdown",
   "metadata": {},
   "source": [
    "### Декодирование символов по словарю."
   ]
  },
  {
   "cell_type": "code",
   "execution_count": 6,
   "metadata": {},
   "outputs": [],
   "source": [
    "def Decoding():\n",
    "    for symbol in symbols:\n",
    "        if (symbol == 99):\n",
    "            sentences.append(\"\\n\")\n",
    "        else: \n",
    "            if (symbol <= 9):\n",
    "                sentences.append(dictionaryD[str(0) + str(symbol)])\n",
    "            else:\n",
    "                sentences.append(dictionaryD[str(symbol)])  "
   ]
  },
  {
   "cell_type": "code",
   "execution_count": 7,
   "metadata": {},
   "outputs": [],
   "source": [
    "def Encryption():\n",
    "    for s in sentences:\n",
    "        symbols.append(int(dictionaryE[s]))\n",
    "    symbols.append(99)"
   ]
  },
  {
   "cell_type": "markdown",
   "metadata": {},
   "source": [
    "### Печать предложения."
   ]
  },
  {
   "cell_type": "code",
   "execution_count": 8,
   "metadata": {},
   "outputs": [],
   "source": [
    "def PrintSentences(type):\n",
    "    if (type == 0):\n",
    "        print(\"Cообщение: \", end='')\n",
    "        for part in sentences:\n",
    "            print(part, end='')\n",
    "    if (type == 1):\n",
    "        print(\"Шифровка: \", end='')\n",
    "        for symbol in symbols:\n",
    "            print(symbol, end='')"
   ]
  },
  {
   "cell_type": "markdown",
   "metadata": {},
   "source": [
    "### Очистка переменных."
   ]
  },
  {
   "cell_type": "code",
   "execution_count": 9,
   "metadata": {},
   "outputs": [],
   "source": [
    "def Clearing():\n",
    "    symbols.clear()\n",
    "    sentences.clear()"
   ]
  },
  {
   "cell_type": "markdown",
   "metadata": {},
   "source": [
    "### Запрос данных, запуск методов и вывод результата.\n",
    "По завершению ввода нажимать ENTER\n",
    "***"
   ]
  },
  {
   "cell_type": "markdown",
   "metadata": {},
   "source": [
    "**Пример ввода**\n",
    "\n",
    "**Сообщение:** `ПРИВЕТ, КАК ДЕЛА, ЧУВАК?`\n",
    "\n",
    "**Сдвиг:** `6`\n",
    "\n",
    "***\n",
    "\n",
    "**Пример ввода**\n",
    "\n",
    "**Шифровка:** `11120445001439400643064047000743394019154543064299`\n",
    "\n",
    "**Сдвиг:** `6`\n",
    "***"
   ]
  },
  {
   "cell_type": "code",
   "execution_count": 11,
   "metadata": {},
   "outputs": [
    {
     "name": "stdout",
     "output_type": "stream",
     "text": [
      "Зашифровать/Дешифровать (1 - Зашифровать, 0 - Дешифровать): 0\n",
      "Шифровка: 11120445001439400643064047000743394019154543064299\n",
      "Сдвиг: 6\n",
      "Cообщение: ПРИВЕТ, КАК ДЕЛА, ЧУВАК?\n"
     ]
    }
   ],
   "source": [
    "Clearing()\n",
    "\n",
    "choice = (int(input(\"Зашифровать/Дешифровать (1 - Зашифровать, 0 - Дешифровать): \")))\n",
    "if (choice == 1):\n",
    "    sentences = list(input(\"Предложение: \"))\n",
    "    Encryption()\n",
    "    Shift(choice, int(input(\"Сдвиг: \")))\n",
    "if (choice == 0):\n",
    "    Division(str(input(\"Шифровка: \")))\n",
    "    Shift(choice, int(input(\"Сдвиг: \")))\n",
    "    Decoding()\n",
    "          \n",
    "PrintSentences(choice)       "
   ]
  }
 ],
 "metadata": {
  "kernelspec": {
   "display_name": "Python 3",
   "language": "python",
   "name": "python3"
  },
  "language_info": {
   "codemirror_mode": {
    "name": "ipython",
    "version": 3
   },
   "file_extension": ".py",
   "mimetype": "text/x-python",
   "name": "python",
   "nbconvert_exporter": "python",
   "pygments_lexer": "ipython3",
   "version": "3.6.4"
  }
 },
 "nbformat": 4,
 "nbformat_minor": 2
}
