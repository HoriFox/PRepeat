{
 "cells": [
  {
   "cell_type": "markdown",
   "metadata": {},
   "source": [
    "### Ассиметричное шифрование. RSA."
   ]
  },
  {
   "cell_type": "markdown",
   "metadata": {},
   "source": [
    "**Очень кривое подобие RSA шифрования по формулам**"
   ]
  },
  {
   "cell_type": "code",
   "execution_count": null,
   "metadata": {
    "scrolled": false
   },
   "outputs": [
    {
     "name": "stdout",
     "output_type": "stream",
     "text": [
      "Натуральные числа:\n",
      "p=673, q=907\n",
      "n = p * q = 610411\n",
      "Формула Эйлера. F(n): 608832\n",
      "e = 113819, d = 217811, n = 610411\n"
     ]
    }
   ],
   "source": [
    "import random\n",
    "from random import randint\n",
    "\n",
    "def is_prime(num, test_count):\n",
    "    if num == 1:\n",
    "        return False\n",
    "    if test_count >= num:\n",
    "        test_count = num - 1\n",
    "    for x in range(test_count):\n",
    "        val = randint(1, num - 1)\n",
    "        if pow(val, num-1, num) != 1:\n",
    "            return False\n",
    "    return True\n",
    "\n",
    "def generate_big_prime(n):\n",
    "    found_prime = False\n",
    "    while not found_prime:\n",
    "        p = randint(2**(n-1), 2**n)\n",
    "        if is_prime(p, 1000):\n",
    "            return p\n",
    "        \n",
    "def gcd(a, b):\n",
    "    while b != 0:\n",
    "        c = a % b\n",
    "        a = b\n",
    "        b = c\n",
    "    return a\n",
    "\n",
    "def egcd(a, b):\n",
    "    if a == 0:\n",
    "        return b, 0, 1\n",
    "    else:\n",
    "        g, y, x = egcd(b % a, a)\n",
    "        return g, x - (b // a) * y, y\n",
    "    \n",
    "def modinv(a, m):\n",
    "    g, x, y = egcd(a, m)\n",
    "    if g != 1:\n",
    "        raise Exception('Modular inverse does not exist')\n",
    "    else:\n",
    "        return x % m\n",
    "    \n",
    "def encrypt_block(m):\n",
    "    c = modinv(m**e, n)\n",
    "    if c == None: \n",
    "        print('No modular multiplicative inverse for block ' + str(m) + '.')\n",
    "        c = 1\n",
    "    return c\n",
    "\n",
    "def decrypt_block(c):\n",
    "    m = modinv(c**d, n)\n",
    "    if m == None: \n",
    "        print('No modular multiplicative inverse for block ' + str(c) + '.')\n",
    "        m = 1\n",
    "    return m\n",
    "\n",
    "def encrypt_string(s):\n",
    "    return ''.join(str(chr(encrypt_block(ord(x)))) for x in s)\n",
    "\n",
    "def decrypt_string(s):\n",
    "    return ''.join(str(chr(decrypt_block(ord(x)))) for x in s)    \n",
    "\n",
    "# p=int(input('p: '))\n",
    "# q=int(input('q: '))\n",
    "\n",
    "p = generate_big_prime(10)\n",
    "q = generate_big_prime(10)\n",
    "while (p == q):\n",
    "    q = generate_big_prime(10)    \n",
    "\n",
    "print(\"Натуральные числа:\\np=\" + str(p) + \", q=\" + str(q))\n",
    "n=p*q\n",
    "print(\"n = p * q = \" + str(n))\n",
    "phi=(p-1)*(q-1)\n",
    "print(\"Формула Эйлера. F(n): \" + str(phi))\n",
    "\n",
    "e = random.randrange(1, phi)\n",
    "g = gcd(e, phi)\n",
    "while g != 1:\n",
    "    e = random.randrange(1, phi)\n",
    "    g = gcd(e, phi)\n",
    "    \n",
    "d=modinv(e,phi)\n",
    "\n",
    "print(\"e = {}, d = {}, n = {}\".format(str(e), str(d), str(n)))\n",
    "s = input(\"Сообщение для шифроки: \")\n",
    "print(\"\\nСообщение: \" + s)\n",
    "enc = encrypt_string(s)\n",
    "print(\"Шифровка: \" + enc)\n",
    "dec = decrypt_string(enc)\n",
    "print(\"Расшифровка: \" + dec)"
   ]
  },
  {
   "cell_type": "markdown",
   "metadata": {},
   "source": [
    "**Далее я решил использовать библиотеку Crypto. К сожалению она есть в открытом доступе и при должном желании и знаниях, зашифрованное сообщение можно расшифровать**"
   ]
  },
  {
   "cell_type": "markdown",
   "metadata": {},
   "source": [
    "Используется RSA генерация ключей"
   ]
  },
  {
   "cell_type": "code",
   "execution_count": 14,
   "metadata": {},
   "outputs": [
    {
     "name": "stdout",
     "output_type": "stream",
     "text": [
      "b'Hello Blablacode.ru!tttt'\n",
      "(b'z\\x7fU\\x19\\xb2\\x95\\xa1\\x93\\x82\\xf5\\xf0S^\\x0f\\x00\\xf3I:\\xa7\\x03\\xcd\\xfc\\xbc\\xdaJ[4;\\x9b2\\xe8\\x92\\xda\\xf0\\xbf\\r\\x86\\xce[\"(j\\xd0C\\xa4n\\xd3\\xc3\\xe6\\x82\\x88\\x8c\\xea\\xd1\\x1f\\xda]\\xe4\\xbeN}\\x9eK\\xc7\\x9a\\'\\xb3eV<\\xc3\\x91\\x08eV\\xc4\"\\x94\\xc97\\x8d\\x03\\xe4\\x85s\\xd9l\\x16{\\t\\xf0\\xfa\\x98\\x08\\xf5\\x02\\x06W\\xc78\\xc5]\\x94\\x8e\\xac\\xd1\\x1bO!P\\xd1O\\x0b HV=\\xd2Y3\\xd0\\x92P\\x11\\xfb\\xc0\\x9a-',)\n",
      "b'Hello Blablacode.ru!tttt'\n"
     ]
    }
   ],
   "source": [
    "from Crypto.PublicKey import RSA\n",
    "from Crypto import Random\n",
    "\n",
    "random_generator = Random.new().read\n",
    "private = RSA.generate(1024, random_generator)\n",
    "public = private.publickey()\n",
    " \n",
    "message = b'Hello Blablacode.ru!tttt'\n",
    "print(message)\n",
    "\n",
    "# Шифруем.\n",
    "emessage = public.encrypt(message, 32)\n",
    "print(emessage)\n",
    "\n",
    "# Расшифровываем.\n",
    "message = private.decrypt(emessage)\n",
    "print(str(message))"
   ]
  },
  {
   "cell_type": "code",
   "execution_count": 40,
   "metadata": {},
   "outputs": [
    {
     "name": "stdout",
     "output_type": "stream",
     "text": [
      "Сообщение:  H\n",
      "Ключ:  hftrdr56u78988jyfhg7987jo8r7e655wvtb7im9oj7i6b6e5vc45yj67ni7m9nr76v5ct5cnvtjghnmilgufytrsytjtmgfm\n",
      "H:  wrA=\n",
      "E:  wq0=\n",
      "HE:  wrDCqw==\n",
      "HELLO:  wrDCq8OAwr7Csw==\n",
      "Зашифрованное сообщение:  wrA=\n",
      "Дешифрованное сообщение:  H\n"
     ]
    }
   ],
   "source": [
    "import base64\n",
    "from itertools import cycle\n",
    "\n",
    "def Encrypt(key, message):\n",
    "    emessage = [chr((ord(ch) + ord(key_char)) % 256)\n",
    "                for ch, key_char in zip(message, cycle(key))]\n",
    "    return base64.urlsafe_b64encode(\"\".join(emessage).encode()).decode()\n",
    "\n",
    "def Decrypt(key, emessage):\n",
    "    emessage = base64.urlsafe_b64decode(emessage).decode()\n",
    "    message = [chr((256 + ord(ch) - ord(key_char)) % 256)\n",
    "                for ch, key_char in zip(emessage, cycle(key))]\n",
    "    return \"\".join(message)\n",
    "\n",
    "message = 'H'\n",
    "print(\"Сообщение: \", message)\n",
    "key = 'hftrdr56u78988jyfhg7987jo8r7e655wvtb7im9oj7i6b6e5vc45yj67ni7m9nr76v5ct5cnvtjghnmilgufytrsytjtmgfm'\n",
    "print(\"Ключ: \", key)\n",
    "\n",
    "# Шифруем.\n",
    "print(\"H: \", Encrypt(key, 'H'))\n",
    "print(\"E: \", Encrypt(key, 'E'))\n",
    "print(\"HE: \", Encrypt(key, 'HE'))\n",
    "print(\"HELLO: \", Encrypt(key, 'HELLO'))\n",
    "emessage = Encrypt(key, message)\n",
    "print(\"Зашифрованное сообщение: \", emessage)\n",
    "\n",
    "# Расшифровываем.\n",
    "message = Decrypt(key, emessage)\n",
    "print(\"Дешифрованное сообщение: \", message)"
   ]
  },
  {
   "cell_type": "code",
   "execution_count": null,
   "metadata": {},
   "outputs": [],
   "source": []
  },
  {
   "cell_type": "code",
   "execution_count": null,
   "metadata": {},
   "outputs": [],
   "source": []
  }
 ],
 "metadata": {
  "kernelspec": {
   "display_name": "Python 3",
   "language": "python",
   "name": "python3"
  },
  "language_info": {
   "codemirror_mode": {
    "name": "ipython",
    "version": 3
   },
   "file_extension": ".py",
   "mimetype": "text/x-python",
   "name": "python",
   "nbconvert_exporter": "python",
   "pygments_lexer": "ipython3",
   "version": "3.6.4"
  }
 },
 "nbformat": 4,
 "nbformat_minor": 2
}
