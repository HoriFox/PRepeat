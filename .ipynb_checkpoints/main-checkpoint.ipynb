{
 "cells": [
  {
   "cell_type": "markdown",
   "metadata": {},
   "source": [
    "### Глобальные переменные."
   ]
  },
  {
   "cell_type": "code",
   "execution_count": 41,
   "metadata": {},
   "outputs": [],
   "source": [
    "# Лист для шифра.\n",
    "symbols = []\n",
    "\n",
    "# Словарь.\n",
    "dictionary1 = ['01', '02', '03', '04', '05', '06', '07', '08', '09', '10', '11', '12', '13', '14', '15', '16', \n",
    "               '17', '18', '19', '20', '21', '22', '23', '24', '25', '26', '27', '28', '29', '30', '31', '32', \n",
    "               '33', '34', '35', '36', '37', '38', '39', '40', '41', '42', '43', '44', '45', '46', '47', '48']\n",
    "dictionary2 = ['А', 'Б', 'В', 'Г', 'Д', 'Е', 'Ё', 'Д', 'З', 'И', 'Й', 'К', 'Л', 'М', 'Н', 'О', \n",
    "               'П', 'Р', 'С', 'Т', 'У', 'Ф', 'Х', 'Ц', 'Ч', 'Ш', 'Щ', 'Ъ', 'Ы', 'Ь', 'Э', 'Ю', \n",
    "               'Я', '1', '2', '3', '4', '5', '6', '7', '8', '9', '0', '.', ',', ' ', '!', '?']\n",
    "# Словарь для шифрования.\n",
    "dictionaryE = dict(zip(dictionary2, dictionary1))\n",
    "# Словарь для дешифрования.\n",
    "dictionaryD = dict(zip(dictionary1, dictionary2))\n",
    "\n",
    "# Символ деления.\n",
    "division = 99 \n",
    "# Количество символов в словаре.\n",
    "sizeDir = len(dictionary2)\n",
    "# Переведённые предложения.\n",
    "sentencesD = []\n",
    "sentencesE = []"
   ]
  },
  {
   "cell_type": "markdown",
   "metadata": {},
   "source": [
    "### Деление шифра по два символа для дешифровки."
   ]
  },
  {
   "cell_type": "code",
   "execution_count": 42,
   "metadata": {},
   "outputs": [],
   "source": [
    "def DivisionToD(allSymbols):    \n",
    "    n = 2\n",
    "    for i in range(0, len(allSymbols), n):\n",
    "        symbols.append(int(allSymbols[i:i+n]))"
   ]
  },
  {
   "cell_type": "markdown",
   "metadata": {},
   "source": [
    "### Деление шифра по одному символу для шифровки.\n",
    "Может не работать"
   ]
  },
  {
   "cell_type": "code",
   "execution_count": 43,
   "metadata": {},
   "outputs": [],
   "source": [
    "def DivisionToE(allSymbols):    \n",
    "    n = 1\n",
    "    for i in range(0, len(allSymbols), n):\n",
    "        sentencesE.append(allSymbols[i:i+n])"
   ]
  },
  {
   "cell_type": "markdown",
   "metadata": {},
   "source": [
    "### Установка смещения на символы."
   ]
  },
  {
   "cell_type": "code",
   "execution_count": 44,
   "metadata": {},
   "outputs": [],
   "source": [
    "def Shift(shift):\n",
    "    for i, symbol in enumerate(symbols):\n",
    "        if (symbol != division):\n",
    "            if ((symbol + shift) > sizeDir):\n",
    "                symbols[i] = (symbol + shift) - sizeDir\n",
    "            else: \n",
    "                symbols[i] = symbol + shift"
   ]
  },
  {
   "cell_type": "code",
   "execution_count": 45,
   "metadata": {},
   "outputs": [],
   "source": [
    "def RShift(shift):\n",
    "    for i, symbol in enumerate(symbols):\n",
    "        if (symbol != 99):\n",
    "            if ((symbol - shift) < 0):\n",
    "                diz = sizeDir - (shift - symbol)\n",
    "            else: \n",
    "                diz = symbol - shift\n",
    "            if (diz <= 9):\n",
    "                diz = str(0) + str(diz)\n",
    "            symbols[i] = diz"
   ]
  },
  {
   "cell_type": "markdown",
   "metadata": {},
   "source": [
    "### Декодирование символов по словарю."
   ]
  },
  {
   "cell_type": "code",
   "execution_count": 46,
   "metadata": {},
   "outputs": [],
   "source": [
    "def Decoding():\n",
    "    for symbol in symbols:\n",
    "        if (symbol == 99):\n",
    "            sentencesD.append(\"\\n\")\n",
    "        else: \n",
    "            if (symbol <= 9):\n",
    "                sentencesD.append(dictionaryD[str(0) + str(symbol)])\n",
    "            else:\n",
    "                sentencesD.append(dictionaryD[str(symbol)])  "
   ]
  },
  {
   "cell_type": "code",
   "execution_count": 47,
   "metadata": {},
   "outputs": [],
   "source": [
    "def Encryption():\n",
    "    for s in sentencesE:\n",
    "        symbols.append(int(dictionaryE[s]))\n",
    "    symbols.append(99)"
   ]
  },
  {
   "cell_type": "markdown",
   "metadata": {},
   "source": [
    "### Печать предложения."
   ]
  },
  {
   "cell_type": "code",
   "execution_count": 52,
   "metadata": {},
   "outputs": [],
   "source": [
    "def PrintSentences(type):\n",
    "    if (type == 0):\n",
    "        print(\"Cообщение: \", end='')\n",
    "        for part in sentencesD:\n",
    "            print(part, end='')\n",
    "    if (type == 1):\n",
    "        print(\"Шифровка: \", end='')\n",
    "        for symbol in symbols:\n",
    "            print(symbol, end='')"
   ]
  },
  {
   "cell_type": "markdown",
   "metadata": {},
   "source": [
    "### Очистка переменных."
   ]
  },
  {
   "cell_type": "code",
   "execution_count": 53,
   "metadata": {},
   "outputs": [],
   "source": [
    "def Clearing():\n",
    "    symbols.clear()\n",
    "    sentencesE.clear()\n",
    "    sentencesD.clear()"
   ]
  },
  {
   "cell_type": "markdown",
   "metadata": {},
   "source": [
    "### Запрос данных, запуск методов и вывод результата.\n",
    "По завершению ввода нажимать ENTER\n",
    "\n",
    "***"
   ]
  },
  {
   "cell_type": "markdown",
   "metadata": {},
   "source": [
    "**Пример ввода**\n",
    "\n",
    "**Сообщение:** `ПРИВЕТ, КАК ДЕЛА, ЧУВАК?`\n",
    "\n",
    "**Сдвиг:** `6`\n",
    "\n",
    "***"
   ]
  },
  {
   "cell_type": "code",
   "execution_count": 54,
   "metadata": {},
   "outputs": [
    {
     "name": "stdout",
     "output_type": "stream",
     "text": [
      "Предложение: ПРИВЕТ, КАК ДЕЛА, ЧУВАК?\n",
      "[17, 18, 10, 3, 6, 20, 45, 46, 12, 1, 12, 46, 8, 6, 13, 1, 45, 46, 25, 21, 3, 1, 12, 48, 99]\n",
      "Сдвиг: 6\n",
      "Шифровка: 11120445001439400643064002000743394019154543064299"
     ]
    }
   ],
   "source": [
    "DivisionToE(str(input(\"Предложение: \")))\n",
    "Encryption()\n",
    "RShift(int(input(\"Сдвиг: \")))\n",
    "PrintSentences(1) \n",
    "Clearing()"
   ]
  },
  {
   "cell_type": "markdown",
   "metadata": {},
   "source": [
    "**Пример ввода**\n",
    "\n",
    "**Шифровка:** `044748274020040643120943273899`\n",
    "\n",
    "**Сдвиг:** `6`\n",
    "\n",
    "***"
   ]
  },
  {
   "cell_type": "code",
   "execution_count": 55,
   "metadata": {},
   "outputs": [
    {
     "name": "stdout",
     "output_type": "stream",
     "text": [
      "Шифровка: 11120445001439400643064002000743394019154543064299\n",
      "Сдвиг: 6\n",
      "Cообщение: ПРИВЕТ, КАК ДЕЛА, ЧУВАК?\n"
     ]
    }
   ],
   "source": [
    "DivisionToD(str(input(\"Шифровка: \")))\n",
    "Shift(int(input(\"Сдвиг: \")))\n",
    "Decoding()\n",
    "PrintSentences(0) \n",
    "Clearing()"
   ]
  },
  {
   "cell_type": "code",
   "execution_count": null,
   "metadata": {},
   "outputs": [],
   "source": []
  }
 ],
 "metadata": {
  "kernelspec": {
   "display_name": "Python 3",
   "language": "python",
   "name": "python3"
  },
  "language_info": {
   "codemirror_mode": {
    "name": "ipython",
    "version": 3
   },
   "file_extension": ".py",
   "mimetype": "text/x-python",
   "name": "python",
   "nbconvert_exporter": "python",
   "pygments_lexer": "ipython3",
   "version": "3.6.4"
  }
 },
 "nbformat": 4,
 "nbformat_minor": 2
}
